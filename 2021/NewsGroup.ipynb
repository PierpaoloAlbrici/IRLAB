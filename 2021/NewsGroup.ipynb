{
 "cells": [
  {
   "cell_type": "markdown",
   "metadata": {},
   "source": [
    "# Execute the 20news experiment"
   ]
  },
  {
   "cell_type": "code",
   "execution_count": 5,
   "metadata": {},
   "outputs": [],
   "source": [
    "import nltk\n",
    "import warnings\n",
    "import pandas as pd\n",
    "import numpy as np\n",
    "\n",
    "import sklearn.metrics as mtr\n",
    "from sklearn.ensemble import RandomForestClassifier\n",
    "from sklearn.linear_model import LogisticRegression\n",
    "from sklearn.naive_bayes import MultinomialNB\n",
    "from sklearn.neighbors import KNeighborsClassifier\n",
    "from sklearn.svm import SVC\n",
    "from sklearn.tree import DecisionTreeClassifier \n",
    "from sklearn.datasets import fetch_20newsgroups\n",
    "from sklearn.feature_extraction.text import TfidfVectorizer\n",
    "\n",
    "np.random.seed(42)\n",
    "warnings.filterwarnings('ignore')"
   ]
  },
  {
   "cell_type": "markdown",
   "metadata": {},
   "source": [
    "## Download the 20news dataset"
   ]
  },
  {
   "cell_type": "code",
   "execution_count": 6,
   "metadata": {},
   "outputs": [
    {
     "name": "stderr",
     "output_type": "stream",
     "text": [
      "Downloading 20news dataset. This may take a few minutes.\n",
      "Downloading dataset from https://ndownloader.figshare.com/files/5975967 (14 MB)\n"
     ]
    }
   ],
   "source": [
    "data_train = fetch_20newsgroups(subset='train')\n",
    "data_test = fetch_20newsgroups(subset='test')"
   ]
  },
  {
   "cell_type": "markdown",
   "metadata": {},
   "source": [
    "## Setup the competing algorithms"
   ]
  },
  {
   "cell_type": "code",
   "execution_count": 8,
   "metadata": {},
   "outputs": [],
   "source": [
    "models = {\n",
    "    'logist regression': LogisticRegression(),\n",
    "    'Support Vector Machine': SVC(), \n",
    "    'Multinomial Naive Bayes': MultinomialNB(), \n",
    "    'Decision Time': DecisionTreeClassifier(), \n",
    "    'Random Forest': RandomForestClassifier(), \n",
    "    'K-Nearest Neighbors': KNeighborsClassifier()\n",
    "}"
   ]
  },
  {
   "cell_type": "markdown",
   "metadata": {},
   "source": [
    "### Prepare train and test sets\n",
    "\n",
    "Use a simple tokenization with <code>nltk.word_tokenize</code> and vectorize with Tf-Idf"
   ]
  },
  {
   "cell_type": "code",
   "execution_count": 10,
   "metadata": {},
   "outputs": [],
   "source": [
    "vectorizer = TfidfVectorizer(tokenizer=nltk.word_tokenize)\n",
    "X_train = vectorizer.fit_transform(data_train.data)\n",
    "X_test = vectorizer.transform(data_test.data)\n",
    "y_train, y_test = data_train.target, data_test.target"
   ]
  },
  {
   "cell_type": "markdown",
   "metadata": {},
   "source": [
    "### Fit"
   ]
  },
  {
   "cell_type": "code",
   "execution_count": 11,
   "metadata": {},
   "outputs": [
    {
     "name": "stdout",
     "output_type": "stream",
     "text": [
      "Training: logist regression\n",
      "Training: Support Vector Machine\n",
      "Training: Multinomial Naive Bayes\n",
      "Training: Decision Time\n",
      "Training: Random Forest\n",
      "Training: K-Nearest Neighbors\n"
     ]
    }
   ],
   "source": [
    "for model_name, model in models.items(): \n",
    "    print('Training: {}'.format(model_name))\n",
    "    models[model_name].fit(X_train, y_train)"
   ]
  },
  {
   "cell_type": "markdown",
   "metadata": {},
   "source": [
    "### Predict"
   ]
  },
  {
   "cell_type": "code",
   "execution_count": 12,
   "metadata": {},
   "outputs": [
    {
     "name": "stdout",
     "output_type": "stream",
     "text": [
      "Predictiong: logist regression\n",
      "Predictiong: Support Vector Machine\n",
      "Predictiong: Multinomial Naive Bayes\n",
      "Predictiong: Decision Time\n",
      "Predictiong: Random Forest\n",
      "Predictiong: K-Nearest Neighbors\n"
     ]
    }
   ],
   "source": [
    "predictions = {}\n",
    "\n",
    "for model_name, model in models.items(): \n",
    "    print(\"Predictiong: {}\".format(model_name))\n",
    "    predictions[model_name] = model.predict(X_test)"
   ]
  },
  {
   "cell_type": "markdown",
   "metadata": {},
   "source": [
    "## Print evaluation metrics"
   ]
  },
  {
   "cell_type": "code",
   "execution_count": 14,
   "metadata": {},
   "outputs": [],
   "source": [
    "E = []\n",
    "\n",
    "for estimator, y_pred in predictions.items(): \n",
    "    report = mtr.classification_report(y_test, y_pred, output_dict = True, zero_division = 0)\n",
    "    E.append({\n",
    "        'Model': estimator, 'Accuracy': report['accuracy'],\n",
    "        'AVG Precision (macro)': report['macro avg']['precision'],\n",
    "        'AVG Recall (macro)': report['macro avg']['recall'],\n",
    "        'AVG F1 - Score (macro)': report['macro avg']['f1-score'], \n",
    "        'AVG Precision (Weighted)': report['weighted avg']['precision'], \n",
    "        'AVG Recall (weighted)': report['weighted avg']['recall'], \n",
    "        'AVG F1 - Score (weighted)': report['weighted avg']['f1-score']\n",
    "    })\n",
    "    \n",
    "E = pd.DataFrame(E).set_index('Model', inplace = False)"
   ]
  },
  {
   "cell_type": "code",
   "execution_count": 15,
   "metadata": {},
   "outputs": [
    {
     "data": {
      "text/html": [
       "<div>\n",
       "<style scoped>\n",
       "    .dataframe tbody tr th:only-of-type {\n",
       "        vertical-align: middle;\n",
       "    }\n",
       "\n",
       "    .dataframe tbody tr th {\n",
       "        vertical-align: top;\n",
       "    }\n",
       "\n",
       "    .dataframe thead th {\n",
       "        text-align: right;\n",
       "    }\n",
       "</style>\n",
       "<table border=\"1\" class=\"dataframe\">\n",
       "  <thead>\n",
       "    <tr style=\"text-align: right;\">\n",
       "      <th></th>\n",
       "      <th>Accuracy</th>\n",
       "      <th>AVG Precision (macro)</th>\n",
       "      <th>AVG Recall (macro)</th>\n",
       "      <th>AVG F1 - Score (macro)</th>\n",
       "      <th>AVG Precision (Weighted)</th>\n",
       "      <th>AVG Recall (weighted)</th>\n",
       "      <th>AVG F1 - Score (weighted)</th>\n",
       "    </tr>\n",
       "    <tr>\n",
       "      <th>Model</th>\n",
       "      <th></th>\n",
       "      <th></th>\n",
       "      <th></th>\n",
       "      <th></th>\n",
       "      <th></th>\n",
       "      <th></th>\n",
       "      <th></th>\n",
       "    </tr>\n",
       "  </thead>\n",
       "  <tbody>\n",
       "    <tr>\n",
       "      <th>logist regression</th>\n",
       "      <td>0.805497</td>\n",
       "      <td>0.807608</td>\n",
       "      <td>0.795480</td>\n",
       "      <td>0.796723</td>\n",
       "      <td>0.810022</td>\n",
       "      <td>0.805497</td>\n",
       "      <td>0.803939</td>\n",
       "    </tr>\n",
       "    <tr>\n",
       "      <th>Support Vector Machine</th>\n",
       "      <td>0.788370</td>\n",
       "      <td>0.798908</td>\n",
       "      <td>0.779376</td>\n",
       "      <td>0.783630</td>\n",
       "      <td>0.801205</td>\n",
       "      <td>0.788370</td>\n",
       "      <td>0.789875</td>\n",
       "    </tr>\n",
       "    <tr>\n",
       "      <th>Multinomial Naive Bayes</th>\n",
       "      <td>0.744158</td>\n",
       "      <td>0.821810</td>\n",
       "      <td>0.724686</td>\n",
       "      <td>0.724273</td>\n",
       "      <td>0.817013</td>\n",
       "      <td>0.744158</td>\n",
       "      <td>0.739516</td>\n",
       "    </tr>\n",
       "    <tr>\n",
       "      <th>Decision Time</th>\n",
       "      <td>0.549389</td>\n",
       "      <td>0.545602</td>\n",
       "      <td>0.542891</td>\n",
       "      <td>0.543218</td>\n",
       "      <td>0.552772</td>\n",
       "      <td>0.549389</td>\n",
       "      <td>0.550044</td>\n",
       "    </tr>\n",
       "    <tr>\n",
       "      <th>Random Forest</th>\n",
       "      <td>0.738582</td>\n",
       "      <td>0.747812</td>\n",
       "      <td>0.726654</td>\n",
       "      <td>0.725027</td>\n",
       "      <td>0.747611</td>\n",
       "      <td>0.738582</td>\n",
       "      <td>0.732729</td>\n",
       "    </tr>\n",
       "    <tr>\n",
       "      <th>K-Nearest Neighbors</th>\n",
       "      <td>0.529474</td>\n",
       "      <td>0.598623</td>\n",
       "      <td>0.528026</td>\n",
       "      <td>0.538529</td>\n",
       "      <td>0.607524</td>\n",
       "      <td>0.529474</td>\n",
       "      <td>0.544031</td>\n",
       "    </tr>\n",
       "  </tbody>\n",
       "</table>\n",
       "</div>"
      ],
      "text/plain": [
       "                         Accuracy  AVG Precision (macro)  AVG Recall (macro)  \\\n",
       "Model                                                                          \n",
       "logist regression        0.805497               0.807608            0.795480   \n",
       "Support Vector Machine   0.788370               0.798908            0.779376   \n",
       "Multinomial Naive Bayes  0.744158               0.821810            0.724686   \n",
       "Decision Time            0.549389               0.545602            0.542891   \n",
       "Random Forest            0.738582               0.747812            0.726654   \n",
       "K-Nearest Neighbors      0.529474               0.598623            0.528026   \n",
       "\n",
       "                         AVG F1 - Score (macro)  AVG Precision (Weighted)  \\\n",
       "Model                                                                       \n",
       "logist regression                      0.796723                  0.810022   \n",
       "Support Vector Machine                 0.783630                  0.801205   \n",
       "Multinomial Naive Bayes                0.724273                  0.817013   \n",
       "Decision Time                          0.543218                  0.552772   \n",
       "Random Forest                          0.725027                  0.747611   \n",
       "K-Nearest Neighbors                    0.538529                  0.607524   \n",
       "\n",
       "                         AVG Recall (weighted)  AVG F1 - Score (weighted)  \n",
       "Model                                                                      \n",
       "logist regression                     0.805497                   0.803939  \n",
       "Support Vector Machine                0.788370                   0.789875  \n",
       "Multinomial Naive Bayes               0.744158                   0.739516  \n",
       "Decision Time                         0.549389                   0.550044  \n",
       "Random Forest                         0.738582                   0.732729  \n",
       "K-Nearest Neighbors                   0.529474                   0.544031  "
      ]
     },
     "execution_count": 15,
     "metadata": {},
     "output_type": "execute_result"
    }
   ],
   "source": [
    "E"
   ]
  },
  {
   "cell_type": "code",
   "execution_count": null,
   "metadata": {},
   "outputs": [],
   "source": []
  }
 ],
 "metadata": {
  "kernelspec": {
   "display_name": "Python 3",
   "language": "python",
   "name": "python3"
  },
  "language_info": {
   "codemirror_mode": {
    "name": "ipython",
    "version": 3
   },
   "file_extension": ".py",
   "mimetype": "text/x-python",
   "name": "python",
   "nbconvert_exporter": "python",
   "pygments_lexer": "ipython3",
   "version": "3.7.6"
  }
 },
 "nbformat": 4,
 "nbformat_minor": 4
}
