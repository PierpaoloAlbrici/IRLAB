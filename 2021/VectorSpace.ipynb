{
 "cells": [
  {
   "cell_type": "markdown",
   "metadata": {},
   "source": [
    "# Vector Space Model"
   ]
  },
  {
   "cell_type": "code",
   "execution_count": 1,
   "metadata": {},
   "outputs": [],
   "source": [
    "import numpy as np\n",
    "import pandas as pd\n",
    "from tqdm.notebook import tqdm"
   ]
  },
  {
   "cell_type": "markdown",
   "metadata": {},
   "source": [
    "## Tokenize"
   ]
  },
  {
   "cell_type": "code",
   "execution_count": 6,
   "metadata": {},
   "outputs": [],
   "source": [
    "text = \"\"\"\n",
    "TO REVISE THE CHARTER; Governor Soon to Announce His Choice of Commissioners.\n",
    "The Commissioners declared that\n",
    "\"\"\""
   ]
  },
  {
   "cell_type": "code",
   "execution_count": 7,
   "metadata": {},
   "outputs": [],
   "source": [
    "import nltk\n",
    "from nltk.stem.porter import *\n",
    "from collections import Counter"
   ]
  },
  {
   "cell_type": "code",
   "execution_count": 8,
   "metadata": {},
   "outputs": [
    {
     "name": "stdout",
     "output_type": "stream",
     "text": [
      "['TO', 'REVISE', 'THE', 'CHARTER', ';', 'Governor', 'Soon', 'to', 'Announce', 'His', 'Choice', 'of', 'Commissioners', '.', 'The', 'Commissioners', 'declared', 'that']\n"
     ]
    }
   ],
   "source": [
    "tokens = nltk.word_tokenize(text)\n",
    "print(tokens)"
   ]
  },
  {
   "cell_type": "code",
   "execution_count": 9,
   "metadata": {},
   "outputs": [
    {
     "name": "stdout",
     "output_type": "stream",
     "text": [
      "['to', 'revis', 'the', 'charter', ';', 'governor', 'soon', 'to', 'announc', 'hi', 'choic', 'of', 'commission', '.', 'the', 'commission', 'declar', 'that']\n"
     ]
    }
   ],
   "source": [
    "stemmer = PorterStemmer()\n",
    "norm = [stemmer.stem(x.lower()) for x in tokens]\n",
    "print(norm)"
   ]
  },
  {
   "cell_type": "code",
   "execution_count": 10,
   "metadata": {},
   "outputs": [
    {
     "name": "stdout",
     "output_type": "stream",
     "text": [
      "{'to': 2, 'the': 2, 'commission': 2, 'revis': 1, 'charter': 1, ';': 1, 'governor': 1, 'soon': 1, 'announc': 1, 'hi': 1, 'choic': 1, 'of': 1, '.': 1, 'declar': 1, 'that': 1}\n"
     ]
    }
   ],
   "source": [
    "bag = dict(Counter(norm).most_common())\n",
    "print(bag)"
   ]
  },
  {
   "cell_type": "code",
   "execution_count": 11,
   "metadata": {},
   "outputs": [
    {
     "data": {
      "text/html": [
       "<div>\n",
       "<style scoped>\n",
       "    .dataframe tbody tr th:only-of-type {\n",
       "        vertical-align: middle;\n",
       "    }\n",
       "\n",
       "    .dataframe tbody tr th {\n",
       "        vertical-align: top;\n",
       "    }\n",
       "\n",
       "    .dataframe thead th {\n",
       "        text-align: right;\n",
       "    }\n",
       "</style>\n",
       "<table border=\"1\" class=\"dataframe\">\n",
       "  <thead>\n",
       "    <tr style=\"text-align: right;\">\n",
       "      <th></th>\n",
       "      <th>to</th>\n",
       "      <th>the</th>\n",
       "      <th>commission</th>\n",
       "      <th>revis</th>\n",
       "      <th>charter</th>\n",
       "      <th>;</th>\n",
       "      <th>governor</th>\n",
       "      <th>soon</th>\n",
       "      <th>announc</th>\n",
       "      <th>hi</th>\n",
       "      <th>choic</th>\n",
       "      <th>of</th>\n",
       "      <th>.</th>\n",
       "      <th>declar</th>\n",
       "      <th>that</th>\n",
       "    </tr>\n",
       "  </thead>\n",
       "  <tbody>\n",
       "    <tr>\n",
       "      <th>0</th>\n",
       "      <td>2</td>\n",
       "      <td>2</td>\n",
       "      <td>2</td>\n",
       "      <td>1</td>\n",
       "      <td>1</td>\n",
       "      <td>1</td>\n",
       "      <td>1</td>\n",
       "      <td>1</td>\n",
       "      <td>1</td>\n",
       "      <td>1</td>\n",
       "      <td>1</td>\n",
       "      <td>1</td>\n",
       "      <td>1</td>\n",
       "      <td>1</td>\n",
       "      <td>1</td>\n",
       "    </tr>\n",
       "  </tbody>\n",
       "</table>\n",
       "</div>"
      ],
      "text/plain": [
       "   to  the  commission  revis  charter  ;  governor  soon  announc  hi  choic  \\\n",
       "0   2    2           2      1        1  1         1     1        1   1      1   \n",
       "\n",
       "   of  .  declar  that  \n",
       "0   1  1       1     1  "
      ]
     },
     "metadata": {},
     "output_type": "display_data"
    }
   ],
   "source": [
    "i = pd.Series(bag).to_frame()\n",
    "display(i.T)"
   ]
  },
  {
   "cell_type": "markdown",
   "metadata": {},
   "source": [
    "## Spacy"
   ]
  },
  {
   "cell_type": "code",
   "execution_count": 12,
   "metadata": {},
   "outputs": [],
   "source": [
    "import spacy\n",
    "\n",
    "nlp = spacy.load('en_core_web_sm')"
   ]
  },
  {
   "cell_type": "code",
   "execution_count": 13,
   "metadata": {},
   "outputs": [],
   "source": [
    "tokenize = lambda x: [t.lemma_ for t in nlp(x.lower()) if t.pos_ not in ['SPACE', 'PUNCT', 'DET']]"
   ]
  },
  {
   "cell_type": "markdown",
   "metadata": {},
   "source": [
    "## 20 News"
   ]
  },
  {
   "cell_type": "code",
   "execution_count": 14,
   "metadata": {},
   "outputs": [],
   "source": [
    "from collections import defaultdict\n",
    "from sklearn.datasets import fetch_20newsgroups"
   ]
  },
  {
   "cell_type": "code",
   "execution_count": 16,
   "metadata": {},
   "outputs": [
    {
     "name": "stderr",
     "output_type": "stream",
     "text": [
      "Downloading 20news dataset. This may take a few minutes.\n",
      "Downloading dataset from https://ndownloader.figshare.com/files/5975967 (14 MB)\n"
     ]
    }
   ],
   "source": [
    "data_train = fetch_20newsgroups(subset='train', remove=['headers', 'footers', 'quotes'], data_home='/tmp/')"
   ]
  },
  {
   "cell_type": "code",
   "execution_count": 17,
   "metadata": {},
   "outputs": [],
   "source": [
    "corpus = data_train.data[:1000]"
   ]
  },
  {
   "cell_type": "code",
   "execution_count": 18,
   "metadata": {},
   "outputs": [
    {
     "data": {
      "application/vnd.jupyter.widget-view+json": {
       "model_id": "cc5a6f7dd71c4579b728f0b25b305ade",
       "version_major": 2,
       "version_minor": 0
      },
      "text/plain": [
       "HBox(children=(FloatProgress(value=0.0, max=1000.0), HTML(value='')))"
      ]
     },
     "metadata": {},
     "output_type": "display_data"
    },
    {
     "name": "stdout",
     "output_type": "stream",
     "text": [
      "\n"
     ]
    }
   ],
   "source": [
    "I = defaultdict(lambda: defaultdict(lambda: 0))\n",
    "\n",
    "for i, doc in tqdm(list(enumerate(corpus))):\n",
    "    for t in tokenize(doc):\n",
    "        I[i][t] += 1"
   ]
  },
  {
   "cell_type": "code",
   "execution_count": 19,
   "metadata": {},
   "outputs": [],
   "source": [
    "m = pd.DataFrame(I).T"
   ]
  },
  {
   "cell_type": "code",
   "execution_count": 20,
   "metadata": {},
   "outputs": [
    {
     "data": {
      "text/html": [
       "<div>\n",
       "<style scoped>\n",
       "    .dataframe tbody tr th:only-of-type {\n",
       "        vertical-align: middle;\n",
       "    }\n",
       "\n",
       "    .dataframe tbody tr th {\n",
       "        vertical-align: top;\n",
       "    }\n",
       "\n",
       "    .dataframe thead th {\n",
       "        text-align: right;\n",
       "    }\n",
       "</style>\n",
       "<table border=\"1\" class=\"dataframe\">\n",
       "  <thead>\n",
       "    <tr style=\"text-align: right;\">\n",
       "      <th></th>\n",
       "      <th>i</th>\n",
       "      <th>be</th>\n",
       "      <th>wonder</th>\n",
       "      <th>if</th>\n",
       "      <th>anyone</th>\n",
       "      <th>out</th>\n",
       "      <th>there</th>\n",
       "      <th>could</th>\n",
       "      <th>enlighten</th>\n",
       "      <th>-PRON-</th>\n",
       "      <th>...</th>\n",
       "      <th>timer</th>\n",
       "      <th>macine</th>\n",
       "      <th>tantrumy</th>\n",
       "      <th>stair</th>\n",
       "      <th>akron</th>\n",
       "      <th>afoul</th>\n",
       "      <th>ye</th>\n",
       "      <th>colossians</th>\n",
       "      <th>3:12</th>\n",
       "      <th>angrily</th>\n",
       "    </tr>\n",
       "  </thead>\n",
       "  <tbody>\n",
       "    <tr>\n",
       "      <th>0</th>\n",
       "      <td>3.0</td>\n",
       "      <td>8.0</td>\n",
       "      <td>1.0</td>\n",
       "      <td>2.0</td>\n",
       "      <td>2.0</td>\n",
       "      <td>1.0</td>\n",
       "      <td>1.0</td>\n",
       "      <td>1.0</td>\n",
       "      <td>1.0</td>\n",
       "      <td>4.0</td>\n",
       "      <td>...</td>\n",
       "      <td>0.0</td>\n",
       "      <td>0.0</td>\n",
       "      <td>0.0</td>\n",
       "      <td>0.0</td>\n",
       "      <td>0.0</td>\n",
       "      <td>0.0</td>\n",
       "      <td>0.0</td>\n",
       "      <td>0.0</td>\n",
       "      <td>0.0</td>\n",
       "      <td>0.0</td>\n",
       "    </tr>\n",
       "    <tr>\n",
       "      <th>1</th>\n",
       "      <td>1.0</td>\n",
       "      <td>2.0</td>\n",
       "      <td>0.0</td>\n",
       "      <td>1.0</td>\n",
       "      <td>0.0</td>\n",
       "      <td>0.0</td>\n",
       "      <td>0.0</td>\n",
       "      <td>0.0</td>\n",
       "      <td>0.0</td>\n",
       "      <td>1.0</td>\n",
       "      <td>...</td>\n",
       "      <td>0.0</td>\n",
       "      <td>0.0</td>\n",
       "      <td>0.0</td>\n",
       "      <td>0.0</td>\n",
       "      <td>0.0</td>\n",
       "      <td>0.0</td>\n",
       "      <td>0.0</td>\n",
       "      <td>0.0</td>\n",
       "      <td>0.0</td>\n",
       "      <td>0.0</td>\n",
       "    </tr>\n",
       "    <tr>\n",
       "      <th>2</th>\n",
       "      <td>8.0</td>\n",
       "      <td>12.0</td>\n",
       "      <td>1.0</td>\n",
       "      <td>4.0</td>\n",
       "      <td>0.0</td>\n",
       "      <td>1.0</td>\n",
       "      <td>1.0</td>\n",
       "      <td>3.0</td>\n",
       "      <td>0.0</td>\n",
       "      <td>9.0</td>\n",
       "      <td>...</td>\n",
       "      <td>0.0</td>\n",
       "      <td>0.0</td>\n",
       "      <td>0.0</td>\n",
       "      <td>0.0</td>\n",
       "      <td>0.0</td>\n",
       "      <td>0.0</td>\n",
       "      <td>0.0</td>\n",
       "      <td>0.0</td>\n",
       "      <td>0.0</td>\n",
       "      <td>0.0</td>\n",
       "    </tr>\n",
       "    <tr>\n",
       "      <th>3</th>\n",
       "      <td>0.0</td>\n",
       "      <td>0.0</td>\n",
       "      <td>0.0</td>\n",
       "      <td>0.0</td>\n",
       "      <td>0.0</td>\n",
       "      <td>0.0</td>\n",
       "      <td>0.0</td>\n",
       "      <td>0.0</td>\n",
       "      <td>0.0</td>\n",
       "      <td>2.0</td>\n",
       "      <td>...</td>\n",
       "      <td>0.0</td>\n",
       "      <td>0.0</td>\n",
       "      <td>0.0</td>\n",
       "      <td>0.0</td>\n",
       "      <td>0.0</td>\n",
       "      <td>0.0</td>\n",
       "      <td>0.0</td>\n",
       "      <td>0.0</td>\n",
       "      <td>0.0</td>\n",
       "      <td>0.0</td>\n",
       "    </tr>\n",
       "    <tr>\n",
       "      <th>4</th>\n",
       "      <td>0.0</td>\n",
       "      <td>4.0</td>\n",
       "      <td>0.0</td>\n",
       "      <td>1.0</td>\n",
       "      <td>0.0</td>\n",
       "      <td>0.0</td>\n",
       "      <td>0.0</td>\n",
       "      <td>0.0</td>\n",
       "      <td>0.0</td>\n",
       "      <td>4.0</td>\n",
       "      <td>...</td>\n",
       "      <td>0.0</td>\n",
       "      <td>0.0</td>\n",
       "      <td>0.0</td>\n",
       "      <td>0.0</td>\n",
       "      <td>0.0</td>\n",
       "      <td>0.0</td>\n",
       "      <td>0.0</td>\n",
       "      <td>0.0</td>\n",
       "      <td>0.0</td>\n",
       "      <td>0.0</td>\n",
       "    </tr>\n",
       "  </tbody>\n",
       "</table>\n",
       "<p>5 rows × 20441 columns</p>\n",
       "</div>"
      ],
      "text/plain": [
       "     i    be  wonder   if  anyone  out  there  could  enlighten  -PRON-  ...  \\\n",
       "0  3.0   8.0     1.0  2.0     2.0  1.0    1.0    1.0        1.0     4.0  ...   \n",
       "1  1.0   2.0     0.0  1.0     0.0  0.0    0.0    0.0        0.0     1.0  ...   \n",
       "2  8.0  12.0     1.0  4.0     0.0  1.0    1.0    3.0        0.0     9.0  ...   \n",
       "3  0.0   0.0     0.0  0.0     0.0  0.0    0.0    0.0        0.0     2.0  ...   \n",
       "4  0.0   4.0     0.0  1.0     0.0  0.0    0.0    0.0        0.0     4.0  ...   \n",
       "\n",
       "   timer  macine  tantrumy  stair  akron  afoul   ye  colossians  3:12  \\\n",
       "0    0.0     0.0       0.0    0.0    0.0    0.0  0.0         0.0   0.0   \n",
       "1    0.0     0.0       0.0    0.0    0.0    0.0  0.0         0.0   0.0   \n",
       "2    0.0     0.0       0.0    0.0    0.0    0.0  0.0         0.0   0.0   \n",
       "3    0.0     0.0       0.0    0.0    0.0    0.0  0.0         0.0   0.0   \n",
       "4    0.0     0.0       0.0    0.0    0.0    0.0  0.0         0.0   0.0   \n",
       "\n",
       "   angrily  \n",
       "0      0.0  \n",
       "1      0.0  \n",
       "2      0.0  \n",
       "3      0.0  \n",
       "4      0.0  \n",
       "\n",
       "[5 rows x 20441 columns]"
      ]
     },
     "execution_count": 20,
     "metadata": {},
     "output_type": "execute_result"
    }
   ],
   "source": [
    "m.fillna(0, inplace = True)\n",
    "m.head()"
   ]
  },
  {
   "cell_type": "code",
   "execution_count": 21,
   "metadata": {},
   "outputs": [],
   "source": [
    "Tf = (m.T / m.max(axis = 1)).T"
   ]
  },
  {
   "cell_type": "code",
   "execution_count": 22,
   "metadata": {},
   "outputs": [
    {
     "data": {
      "text/plain": [
       "-PRON-    1.000000\n",
       "and       0.833333\n",
       "i         0.666667\n",
       "be        0.666667\n",
       "out       0.500000\n",
       "leak      0.333333\n",
       "of        0.333333\n",
       "with      0.333333\n",
       "$         0.333333\n",
       "/         0.333333\n",
       "Name: 10, dtype: float64"
      ]
     },
     "execution_count": 22,
     "metadata": {},
     "output_type": "execute_result"
    }
   ],
   "source": [
    "Tf.loc[10].sort_values(ascending=False)[:10]"
   ]
  },
  {
   "cell_type": "code",
   "execution_count": 23,
   "metadata": {},
   "outputs": [
    {
     "data": {
      "text/plain": [
       "'rec.motorcycles'"
      ]
     },
     "execution_count": 23,
     "metadata": {},
     "output_type": "execute_result"
    }
   ],
   "source": [
    "data_train.target_names[data_train.target[10]]"
   ]
  },
  {
   "cell_type": "code",
   "execution_count": 24,
   "metadata": {},
   "outputs": [],
   "source": [
    "Idf = np.log(1000 / np.count_nonzero(m, axis=0))"
   ]
  },
  {
   "cell_type": "code",
   "execution_count": 25,
   "metadata": {},
   "outputs": [],
   "source": [
    "TfIdf = Tf*Idf"
   ]
  },
  {
   "cell_type": "code",
   "execution_count": 26,
   "metadata": {},
   "outputs": [
    {
     "data": {
      "text/html": [
       "<div>\n",
       "<style scoped>\n",
       "    .dataframe tbody tr th:only-of-type {\n",
       "        vertical-align: middle;\n",
       "    }\n",
       "\n",
       "    .dataframe tbody tr th {\n",
       "        vertical-align: top;\n",
       "    }\n",
       "\n",
       "    .dataframe thead th {\n",
       "        text-align: right;\n",
       "    }\n",
       "</style>\n",
       "<table border=\"1\" class=\"dataframe\">\n",
       "  <thead>\n",
       "    <tr style=\"text-align: right;\">\n",
       "      <th></th>\n",
       "      <th>i</th>\n",
       "      <th>be</th>\n",
       "      <th>wonder</th>\n",
       "      <th>if</th>\n",
       "      <th>anyone</th>\n",
       "      <th>out</th>\n",
       "      <th>there</th>\n",
       "      <th>could</th>\n",
       "      <th>enlighten</th>\n",
       "      <th>-PRON-</th>\n",
       "      <th>...</th>\n",
       "      <th>timer</th>\n",
       "      <th>macine</th>\n",
       "      <th>tantrumy</th>\n",
       "      <th>stair</th>\n",
       "      <th>akron</th>\n",
       "      <th>afoul</th>\n",
       "      <th>ye</th>\n",
       "      <th>colossians</th>\n",
       "      <th>3:12</th>\n",
       "      <th>angrily</th>\n",
       "    </tr>\n",
       "  </thead>\n",
       "  <tbody>\n",
       "    <tr>\n",
       "      <th>0</th>\n",
       "      <td>0.159243</td>\n",
       "      <td>0.166055</td>\n",
       "      <td>0.399273</td>\n",
       "      <td>0.234123</td>\n",
       "      <td>0.523893</td>\n",
       "      <td>0.182090</td>\n",
       "      <td>0.155599</td>\n",
       "      <td>0.229856</td>\n",
       "      <td>0.690183</td>\n",
       "      <td>0.082437</td>\n",
       "      <td>...</td>\n",
       "      <td>0.000000</td>\n",
       "      <td>0.000000</td>\n",
       "      <td>0.000000</td>\n",
       "      <td>0.000000</td>\n",
       "      <td>0.000000</td>\n",
       "      <td>0.000000</td>\n",
       "      <td>0.000000</td>\n",
       "      <td>0.000000</td>\n",
       "      <td>0.000000</td>\n",
       "      <td>0.000000</td>\n",
       "    </tr>\n",
       "    <tr>\n",
       "      <th>1</th>\n",
       "      <td>0.141549</td>\n",
       "      <td>0.110703</td>\n",
       "      <td>0.000000</td>\n",
       "      <td>0.312164</td>\n",
       "      <td>0.000000</td>\n",
       "      <td>0.000000</td>\n",
       "      <td>0.000000</td>\n",
       "      <td>0.000000</td>\n",
       "      <td>0.000000</td>\n",
       "      <td>0.054958</td>\n",
       "      <td>...</td>\n",
       "      <td>0.000000</td>\n",
       "      <td>0.000000</td>\n",
       "      <td>0.000000</td>\n",
       "      <td>0.000000</td>\n",
       "      <td>0.000000</td>\n",
       "      <td>0.000000</td>\n",
       "      <td>0.000000</td>\n",
       "      <td>0.000000</td>\n",
       "      <td>0.000000</td>\n",
       "      <td>0.000000</td>\n",
       "    </tr>\n",
       "    <tr>\n",
       "      <th>2</th>\n",
       "      <td>0.283099</td>\n",
       "      <td>0.166055</td>\n",
       "      <td>0.266182</td>\n",
       "      <td>0.312164</td>\n",
       "      <td>0.000000</td>\n",
       "      <td>0.121393</td>\n",
       "      <td>0.103733</td>\n",
       "      <td>0.459713</td>\n",
       "      <td>0.000000</td>\n",
       "      <td>0.123656</td>\n",
       "      <td>...</td>\n",
       "      <td>0.000000</td>\n",
       "      <td>0.000000</td>\n",
       "      <td>0.000000</td>\n",
       "      <td>0.000000</td>\n",
       "      <td>0.000000</td>\n",
       "      <td>0.000000</td>\n",
       "      <td>0.000000</td>\n",
       "      <td>0.000000</td>\n",
       "      <td>0.000000</td>\n",
       "      <td>0.000000</td>\n",
       "    </tr>\n",
       "    <tr>\n",
       "      <th>3</th>\n",
       "      <td>0.000000</td>\n",
       "      <td>0.000000</td>\n",
       "      <td>0.000000</td>\n",
       "      <td>0.000000</td>\n",
       "      <td>0.000000</td>\n",
       "      <td>0.000000</td>\n",
       "      <td>0.000000</td>\n",
       "      <td>0.000000</td>\n",
       "      <td>0.000000</td>\n",
       "      <td>0.164875</td>\n",
       "      <td>...</td>\n",
       "      <td>0.000000</td>\n",
       "      <td>0.000000</td>\n",
       "      <td>0.000000</td>\n",
       "      <td>0.000000</td>\n",
       "      <td>0.000000</td>\n",
       "      <td>0.000000</td>\n",
       "      <td>0.000000</td>\n",
       "      <td>0.000000</td>\n",
       "      <td>0.000000</td>\n",
       "      <td>0.000000</td>\n",
       "    </tr>\n",
       "    <tr>\n",
       "      <th>4</th>\n",
       "      <td>0.000000</td>\n",
       "      <td>0.166055</td>\n",
       "      <td>0.000000</td>\n",
       "      <td>0.234123</td>\n",
       "      <td>0.000000</td>\n",
       "      <td>0.000000</td>\n",
       "      <td>0.000000</td>\n",
       "      <td>0.000000</td>\n",
       "      <td>0.000000</td>\n",
       "      <td>0.164875</td>\n",
       "      <td>...</td>\n",
       "      <td>0.000000</td>\n",
       "      <td>0.000000</td>\n",
       "      <td>0.000000</td>\n",
       "      <td>0.000000</td>\n",
       "      <td>0.000000</td>\n",
       "      <td>0.000000</td>\n",
       "      <td>0.000000</td>\n",
       "      <td>0.000000</td>\n",
       "      <td>0.000000</td>\n",
       "      <td>0.000000</td>\n",
       "    </tr>\n",
       "    <tr>\n",
       "      <th>...</th>\n",
       "      <td>...</td>\n",
       "      <td>...</td>\n",
       "      <td>...</td>\n",
       "      <td>...</td>\n",
       "      <td>...</td>\n",
       "      <td>...</td>\n",
       "      <td>...</td>\n",
       "      <td>...</td>\n",
       "      <td>...</td>\n",
       "      <td>...</td>\n",
       "      <td>...</td>\n",
       "      <td>...</td>\n",
       "      <td>...</td>\n",
       "      <td>...</td>\n",
       "      <td>...</td>\n",
       "      <td>...</td>\n",
       "      <td>...</td>\n",
       "      <td>...</td>\n",
       "      <td>...</td>\n",
       "      <td>...</td>\n",
       "      <td>...</td>\n",
       "    </tr>\n",
       "    <tr>\n",
       "      <th>995</th>\n",
       "      <td>0.424648</td>\n",
       "      <td>0.000000</td>\n",
       "      <td>0.000000</td>\n",
       "      <td>0.000000</td>\n",
       "      <td>0.000000</td>\n",
       "      <td>0.000000</td>\n",
       "      <td>0.000000</td>\n",
       "      <td>0.000000</td>\n",
       "      <td>0.000000</td>\n",
       "      <td>0.000000</td>\n",
       "      <td>...</td>\n",
       "      <td>0.000000</td>\n",
       "      <td>0.000000</td>\n",
       "      <td>0.000000</td>\n",
       "      <td>0.000000</td>\n",
       "      <td>0.000000</td>\n",
       "      <td>0.000000</td>\n",
       "      <td>0.000000</td>\n",
       "      <td>0.000000</td>\n",
       "      <td>0.000000</td>\n",
       "      <td>0.000000</td>\n",
       "    </tr>\n",
       "    <tr>\n",
       "      <th>996</th>\n",
       "      <td>0.070775</td>\n",
       "      <td>0.055352</td>\n",
       "      <td>0.000000</td>\n",
       "      <td>0.156082</td>\n",
       "      <td>0.000000</td>\n",
       "      <td>0.242786</td>\n",
       "      <td>0.000000</td>\n",
       "      <td>0.000000</td>\n",
       "      <td>0.000000</td>\n",
       "      <td>0.164875</td>\n",
       "      <td>...</td>\n",
       "      <td>0.000000</td>\n",
       "      <td>0.000000</td>\n",
       "      <td>0.000000</td>\n",
       "      <td>0.000000</td>\n",
       "      <td>0.000000</td>\n",
       "      <td>0.000000</td>\n",
       "      <td>0.000000</td>\n",
       "      <td>0.000000</td>\n",
       "      <td>0.000000</td>\n",
       "      <td>0.000000</td>\n",
       "    </tr>\n",
       "    <tr>\n",
       "      <th>997</th>\n",
       "      <td>0.424648</td>\n",
       "      <td>0.166055</td>\n",
       "      <td>0.000000</td>\n",
       "      <td>0.000000</td>\n",
       "      <td>0.000000</td>\n",
       "      <td>0.000000</td>\n",
       "      <td>0.000000</td>\n",
       "      <td>0.000000</td>\n",
       "      <td>0.000000</td>\n",
       "      <td>0.164875</td>\n",
       "      <td>...</td>\n",
       "      <td>0.000000</td>\n",
       "      <td>0.000000</td>\n",
       "      <td>0.000000</td>\n",
       "      <td>0.000000</td>\n",
       "      <td>0.000000</td>\n",
       "      <td>0.000000</td>\n",
       "      <td>0.000000</td>\n",
       "      <td>0.000000</td>\n",
       "      <td>0.000000</td>\n",
       "      <td>0.000000</td>\n",
       "    </tr>\n",
       "    <tr>\n",
       "      <th>998</th>\n",
       "      <td>0.000000</td>\n",
       "      <td>0.166055</td>\n",
       "      <td>0.000000</td>\n",
       "      <td>0.000000</td>\n",
       "      <td>0.000000</td>\n",
       "      <td>0.000000</td>\n",
       "      <td>0.000000</td>\n",
       "      <td>0.000000</td>\n",
       "      <td>0.000000</td>\n",
       "      <td>0.041219</td>\n",
       "      <td>...</td>\n",
       "      <td>0.000000</td>\n",
       "      <td>0.000000</td>\n",
       "      <td>0.000000</td>\n",
       "      <td>0.000000</td>\n",
       "      <td>0.000000</td>\n",
       "      <td>0.000000</td>\n",
       "      <td>0.000000</td>\n",
       "      <td>0.000000</td>\n",
       "      <td>0.000000</td>\n",
       "      <td>0.000000</td>\n",
       "    </tr>\n",
       "    <tr>\n",
       "      <th>999</th>\n",
       "      <td>0.156935</td>\n",
       "      <td>0.119126</td>\n",
       "      <td>0.000000</td>\n",
       "      <td>0.040717</td>\n",
       "      <td>0.000000</td>\n",
       "      <td>0.095003</td>\n",
       "      <td>0.027061</td>\n",
       "      <td>0.039975</td>\n",
       "      <td>0.000000</td>\n",
       "      <td>0.164875</td>\n",
       "      <td>...</td>\n",
       "      <td>0.150169</td>\n",
       "      <td>0.150169</td>\n",
       "      <td>0.150169</td>\n",
       "      <td>0.150169</td>\n",
       "      <td>0.150169</td>\n",
       "      <td>0.150169</td>\n",
       "      <td>0.300337</td>\n",
       "      <td>0.150169</td>\n",
       "      <td>0.150169</td>\n",
       "      <td>0.150169</td>\n",
       "    </tr>\n",
       "  </tbody>\n",
       "</table>\n",
       "<p>973 rows × 20441 columns</p>\n",
       "</div>"
      ],
      "text/plain": [
       "            i        be    wonder        if    anyone       out     there  \\\n",
       "0    0.159243  0.166055  0.399273  0.234123  0.523893  0.182090  0.155599   \n",
       "1    0.141549  0.110703  0.000000  0.312164  0.000000  0.000000  0.000000   \n",
       "2    0.283099  0.166055  0.266182  0.312164  0.000000  0.121393  0.103733   \n",
       "3    0.000000  0.000000  0.000000  0.000000  0.000000  0.000000  0.000000   \n",
       "4    0.000000  0.166055  0.000000  0.234123  0.000000  0.000000  0.000000   \n",
       "..        ...       ...       ...       ...       ...       ...       ...   \n",
       "995  0.424648  0.000000  0.000000  0.000000  0.000000  0.000000  0.000000   \n",
       "996  0.070775  0.055352  0.000000  0.156082  0.000000  0.242786  0.000000   \n",
       "997  0.424648  0.166055  0.000000  0.000000  0.000000  0.000000  0.000000   \n",
       "998  0.000000  0.166055  0.000000  0.000000  0.000000  0.000000  0.000000   \n",
       "999  0.156935  0.119126  0.000000  0.040717  0.000000  0.095003  0.027061   \n",
       "\n",
       "        could  enlighten    -PRON-  ...     timer    macine  tantrumy  \\\n",
       "0    0.229856   0.690183  0.082437  ...  0.000000  0.000000  0.000000   \n",
       "1    0.000000   0.000000  0.054958  ...  0.000000  0.000000  0.000000   \n",
       "2    0.459713   0.000000  0.123656  ...  0.000000  0.000000  0.000000   \n",
       "3    0.000000   0.000000  0.164875  ...  0.000000  0.000000  0.000000   \n",
       "4    0.000000   0.000000  0.164875  ...  0.000000  0.000000  0.000000   \n",
       "..        ...        ...       ...  ...       ...       ...       ...   \n",
       "995  0.000000   0.000000  0.000000  ...  0.000000  0.000000  0.000000   \n",
       "996  0.000000   0.000000  0.164875  ...  0.000000  0.000000  0.000000   \n",
       "997  0.000000   0.000000  0.164875  ...  0.000000  0.000000  0.000000   \n",
       "998  0.000000   0.000000  0.041219  ...  0.000000  0.000000  0.000000   \n",
       "999  0.039975   0.000000  0.164875  ...  0.150169  0.150169  0.150169   \n",
       "\n",
       "        stair     akron     afoul        ye  colossians      3:12   angrily  \n",
       "0    0.000000  0.000000  0.000000  0.000000    0.000000  0.000000  0.000000  \n",
       "1    0.000000  0.000000  0.000000  0.000000    0.000000  0.000000  0.000000  \n",
       "2    0.000000  0.000000  0.000000  0.000000    0.000000  0.000000  0.000000  \n",
       "3    0.000000  0.000000  0.000000  0.000000    0.000000  0.000000  0.000000  \n",
       "4    0.000000  0.000000  0.000000  0.000000    0.000000  0.000000  0.000000  \n",
       "..        ...       ...       ...       ...         ...       ...       ...  \n",
       "995  0.000000  0.000000  0.000000  0.000000    0.000000  0.000000  0.000000  \n",
       "996  0.000000  0.000000  0.000000  0.000000    0.000000  0.000000  0.000000  \n",
       "997  0.000000  0.000000  0.000000  0.000000    0.000000  0.000000  0.000000  \n",
       "998  0.000000  0.000000  0.000000  0.000000    0.000000  0.000000  0.000000  \n",
       "999  0.150169  0.150169  0.150169  0.300337    0.150169  0.150169  0.150169  \n",
       "\n",
       "[973 rows x 20441 columns]"
      ]
     },
     "execution_count": 26,
     "metadata": {},
     "output_type": "execute_result"
    }
   ],
   "source": [
    "TfIdf"
   ]
  },
  {
   "cell_type": "code",
   "execution_count": 27,
   "metadata": {},
   "outputs": [
    {
     "data": {
      "text/plain": [
       "car           1.585043\n",
       "60s/          0.863469\n",
       "2-door        0.863469\n",
       "tellme        0.863469\n",
       "bricklin      0.776826\n",
       "bumper        0.726143\n",
       "funky         0.726143\n",
       "enlighten     0.690183\n",
       "spec          0.639499\n",
       "production    0.620231\n",
       "Name: 0, dtype: float64"
      ]
     },
     "execution_count": 27,
     "metadata": {},
     "output_type": "execute_result"
    }
   ],
   "source": [
    "TfIdf.loc[0].sort_values(ascending=False)[:10]"
   ]
  },
  {
   "cell_type": "code",
   "execution_count": null,
   "metadata": {},
   "outputs": [],
   "source": []
  }
 ],
 "metadata": {
  "kernelspec": {
   "display_name": "Python 3",
   "language": "python",
   "name": "python3"
  },
  "language_info": {
   "codemirror_mode": {
    "name": "ipython",
    "version": 3
   },
   "file_extension": ".py",
   "mimetype": "text/x-python",
   "name": "python",
   "nbconvert_exporter": "python",
   "pygments_lexer": "ipython3",
   "version": "3.7.6"
  }
 },
 "nbformat": 4,
 "nbformat_minor": 4
}
